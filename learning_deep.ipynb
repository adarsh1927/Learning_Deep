{
  "nbformat": 4,
  "nbformat_minor": 0,
  "metadata": {
    "colab": {
      "provenance": [],
      "toc_visible": true,
      "authorship_tag": "ABX9TyMgXg3IX0+Gq84aAilQE2Ou",
      "include_colab_link": true
    },
    "kernelspec": {
      "name": "python3",
      "display_name": "Python 3"
    },
    "language_info": {
      "name": "python"
    }
  },
  "cells": [
    {
      "cell_type": "markdown",
      "metadata": {
        "id": "view-in-github",
        "colab_type": "text"
      },
      "source": [
        "<a href=\"https://colab.research.google.com/github/adarsh1927/Learning_Deep/blob/main/learning_deep.ipynb\" target=\"_parent\"><img src=\"https://colab.research.google.com/assets/colab-badge.svg\" alt=\"Open In Colab\"/></a>"
      ]
    },
    {
      "cell_type": "markdown",
      "source": [
        "# structure\n",
        "- every lession has its own installations, imports and codes\n",
        "- structure look like that\n",
        "```\n",
        "installations\n",
        "imports\n",
        "codes\n",
        "```\n"
      ],
      "metadata": {
        "id": "yuk7nWglP-n2"
      }
    },
    {
      "cell_type": "markdown",
      "source": [
        "# Lessons"
      ],
      "metadata": {
        "id": "qPUjsATyQInh"
      }
    },
    {
      "cell_type": "markdown",
      "source": [
        "## Creating a Model to detecting the birds"
      ],
      "metadata": {
        "id": "ZxR5v8slQZwZ"
      }
    },
    {
      "cell_type": "code",
      "source": [
        "!pip install -Uqq duckduckgo_search  fastai"
      ],
      "metadata": {
        "id": "iT9-ogYgRnt9"
      },
      "execution_count": 7,
      "outputs": []
    },
    {
      "cell_type": "code",
      "source": [
        "from duckduckgo_search import DDGS\n",
        "from fastcore.all import *\n",
        "\n",
        "from fastdownload import download_url\n",
        "from fastai.vision.all import *"
      ],
      "metadata": {
        "id": "JReij6GhQNT_"
      },
      "execution_count": 15,
      "outputs": []
    },
    {
      "cell_type": "code",
      "source": [
        "# search image from keyword and return a image url\n",
        "# L is a fastcore.L object which provides a convenient way to manipulate list-like objects\n",
        "\n",
        "# fuction return list of urls of images over internet\n",
        "def search_images(keywords, max_images=200): return L(DDGS().images(keywords, max_results=max_images)).itemgot('image')"
      ],
      "metadata": {
        "id": "prvisEXGUoxW"
      },
      "execution_count": 16,
      "outputs": []
    },
    {
      "cell_type": "code",
      "source": [
        "# lets check what kind of result we get.\n",
        "\n",
        "# List of url\n",
        "urls = search_images('bird photos', max_images=1)\n",
        "# watch frist item\n",
        "urls[0]"
      ],
      "metadata": {
        "colab": {
          "base_uri": "https://localhost:8080/",
          "height": 35
        },
        "id": "VJgm-IR3Waef",
        "outputId": "549bcd0f-2409-49a6-c46c-e4d588fc89ce"
      },
      "execution_count": 21,
      "outputs": [
        {
          "output_type": "execute_result",
          "data": {
            "text/plain": [
              "'https://images.pexels.com/photos/326900/pexels-photo-326900.jpeg?cs=srgb&dl=wood-flight-bird-326900.jpg&fm=jpg'"
            ],
            "application/vnd.google.colaboratory.intrinsic+json": {
              "type": "string"
            }
          },
          "metadata": {},
          "execution_count": 21
        }
      ]
    },
    {
      "cell_type": "code",
      "source": [],
      "metadata": {
        "id": "A6nKOPZPaXCz"
      },
      "execution_count": null,
      "outputs": []
    }
  ]
}