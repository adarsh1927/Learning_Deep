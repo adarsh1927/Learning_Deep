{
  "nbformat": 4,
  "nbformat_minor": 0,
  "metadata": {
    "colab": {
      "provenance": [],
      "toc_visible": true,
      "authorship_tag": "ABX9TyO0bJTFSOIf9K1f1BlO4yRO",
      "include_colab_link": true
    },
    "kernelspec": {
      "name": "python3",
      "display_name": "Python 3"
    },
    "language_info": {
      "name": "python"
    }
  },
  "cells": [
    {
      "cell_type": "markdown",
      "metadata": {
        "id": "view-in-github",
        "colab_type": "text"
      },
      "source": [
        "<a href=\"https://colab.research.google.com/github/adarsh1927/Learning_Deep/blob/main/learning_deep.ipynb\" target=\"_parent\"><img src=\"https://colab.research.google.com/assets/colab-badge.svg\" alt=\"Open In Colab\"/></a>"
      ]
    },
    {
      "cell_type": "markdown",
      "source": [
        "# structure\n",
        "- every lession has its own installations, imports and codes\n",
        "- structure look like that\n",
        "```\n",
        "installations\n",
        "imports\n",
        "codes\n",
        "```\n"
      ],
      "metadata": {
        "id": "yuk7nWglP-n2"
      }
    },
    {
      "cell_type": "markdown",
      "source": [
        "# Lessons"
      ],
      "metadata": {
        "id": "qPUjsATyQInh"
      }
    },
    {
      "cell_type": "markdown",
      "source": [
        "## Creating a Model\n",
        "### is it a bird?"
      ],
      "metadata": {
        "id": "ZxR5v8slQZwZ"
      }
    },
    {
      "cell_type": "markdown",
      "source": [
        "#### installations"
      ],
      "metadata": {
        "id": "XZL7WuIvThuI"
      }
    },
    {
      "cell_type": "code",
      "source": [
        "!pip install -Uqq duckduckgo_search  fastai"
      ],
      "metadata": {
        "id": "iT9-ogYgRnt9"
      },
      "execution_count": 7,
      "outputs": []
    },
    {
      "cell_type": "code",
      "source": [
        "from duckduckgo_search import DDGS #DuckDuckGo has changed the api so we need to update\n",
        "from fastcore.all import *"
      ],
      "metadata": {
        "id": "JReij6GhQNT_"
      },
      "execution_count": null,
      "outputs": []
    }
  ]
}